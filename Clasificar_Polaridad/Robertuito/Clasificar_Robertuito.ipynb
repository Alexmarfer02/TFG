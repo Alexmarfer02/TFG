{
 "cells": [
  {
   "cell_type": "code",
   "execution_count": 1,
   "metadata": {},
   "outputs": [
    {
     "name": "stderr",
     "output_type": "stream",
     "text": [
      "C:\\Users\\Usuario\\AppData\\Roaming\\Python\\Python311\\site-packages\\tqdm\\auto.py:21: TqdmWarning: IProgress not found. Please update jupyter and ipywidgets. See https://ipywidgets.readthedocs.io/en/stable/user_install.html\n",
      "  from .autonotebook import tqdm as notebook_tqdm\n"
     ]
    }
   ],
   "source": [
    "import pandas as pd\n",
    "import torch\n",
    "from pysentimiento import create_analyzer\n",
    "\n",
    "analyzer = create_analyzer(task=\"sentiment\", lang=\"es\")"
   ]
  },
  {
   "cell_type": "code",
   "execution_count": 2,
   "metadata": {},
   "outputs": [
    {
     "name": "stdout",
     "output_type": "stream",
     "text": [
      "pysentimiento/robertuito-sentiment-analysis\n"
     ]
    }
   ],
   "source": [
    "df_2019 = pd.read_excel('../Spain_train_set_2019.xlsx')\n",
    "df_2020 = pd.read_excel(\"../Generalistas/fine-tuning/Clasificación_GPT-4o-mini_Fine-tuning.xlsx\") #Primer Finetuning\n",
    "print(analyzer.model.config._name_or_path)"
   ]
  },
  {
   "cell_type": "code",
   "execution_count": 3,
   "metadata": {},
   "outputs": [],
   "source": [
    "def clasifica_robertuito(tweet):\n",
    "    try:\n",
    "        result = analyzer.predict(tweet)\n",
    "        return result.output  # Devuelve \"POS\", \"NEG\" o \"NEU\"\n",
    "    except Exception as e:\n",
    "        return f\"Error: {e}\""
   ]
  },
  {
   "cell_type": "code",
   "execution_count": 4,
   "metadata": {},
   "outputs": [],
   "source": [
    "df_2019[\"Polarity_Robertuito\"] = df_2019[\"Content\"].apply(clasifica_robertuito)\n",
    "df_2020[\"Polarity_Robertuito\"] = df_2020[\"Content\"].apply(clasifica_robertuito)"
   ]
  },
  {
   "cell_type": "code",
   "execution_count": 5,
   "metadata": {},
   "outputs": [],
   "source": [
    "df_2019.to_excel('Clasificación_Robertuito_2019.xlsx', index=False)\n",
    "df_2020.to_excel('Clasificación_Robertuito_2020.xlsx', index=False)\n"
   ]
  }
 ],
 "metadata": {
  "kernelspec": {
   "display_name": "Python 3",
   "language": "python",
   "name": "python3"
  },
  "language_info": {
   "codemirror_mode": {
    "name": "ipython",
    "version": 3
   },
   "file_extension": ".py",
   "mimetype": "text/x-python",
   "name": "python",
   "nbconvert_exporter": "python",
   "pygments_lexer": "ipython3",
   "version": "3.11.7"
  }
 },
 "nbformat": 4,
 "nbformat_minor": 2
}
