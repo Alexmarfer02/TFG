{
 "cells": [
  {
   "cell_type": "code",
   "execution_count": null,
   "metadata": {},
   "outputs": [
    {
     "name": "stdout",
     "output_type": "stream",
     "text": [
      "c:\\Users\\Usuario\\Desktop\\UNI\\Cuarto\\TFG\\Pruebas_Polaridad\\Generalistas\\fine-tuning\n"
     ]
    }
   ],
   "source": [
    "import pandas as pd\n",
    "import json\n",
    "import re"
   ]
  },
  {
   "cell_type": "code",
   "execution_count": 61,
   "metadata": {},
   "outputs": [],
   "source": [
    "output_normal = \"batch output/BatchOpenAI_GPT-4o-mini_2020_Son500_batch_67ffc9ae8e408190af8b9211a9ab9d49_output.jsonl\"\n",
    "output_finetuning = \"batch output/BatchOpenAI_GPT-4o-mini_2020_Son500_finetuning_batch_67ffca051e1081909e493e205450fa52_output.jsonl\"\n",
    "output_finetuning_v2 = \"batch output/BatchOpenAI_GPT-4o-mini_2020_Son500_finetuning_v2_batch_68178b1335e88190bcf4ed4be9f0fd6c_output.jsonl\"\n",
    "outoput =[output_normal, output_finetuning, output_finetuning_v2]"
   ]
  },
  {
   "cell_type": "code",
   "execution_count": 62,
   "metadata": {},
   "outputs": [],
   "source": [
    "def extract_contents_from_jsonl(path):\n",
    "    contents = []\n",
    "    ids = []\n",
    "    with open(path, \"r\", encoding=\"utf-8\") as f:\n",
    "        for line in f:\n",
    "            data = json.loads(line)\n",
    "            try:\n",
    "                content = data[\"response\"][\"body\"][\"choices\"][0][\"message\"][\"content\"]\n",
    "                id = data[\"custom_id\"]\n",
    "                id = re.sub(r\"^request-\", \"\", id)\n",
    "                contents.append(content)\n",
    "                ids.append(id)\n",
    "                \n",
    "            except KeyError:\n",
    "                contents.append(\"\")\n",
    "                ids.append(\"\")\n",
    "    return contents, ids"
   ]
  },
  {
   "cell_type": "code",
   "execution_count": 63,
   "metadata": {},
   "outputs": [],
   "source": [
    "normal_polarity, normal_id = extract_contents_from_jsonl(output_normal)\n",
    "finetuning_polarity, finetuning_id = extract_contents_from_jsonl(output_finetuning)\n",
    "finetuning_polarity2, finetuning_id2 = extract_contents_from_jsonl(output_finetuning_v2)"
   ]
  },
  {
   "cell_type": "code",
   "execution_count": 64,
   "metadata": {},
   "outputs": [],
   "source": [
    "df_normal = pd.DataFrame({\"Id\": normal_id, \"Polarity_GPT-4o-mini\": normal_polarity})\n",
    "df_finetuning = pd.DataFrame({\"Id\": finetuning_id, \"Polarity_GPT-4o-mini_Finetuning\": finetuning_polarity})\n",
    "df_finetuning2 = pd.DataFrame({\"Id\": finetuning_id2, \"Polarity_GPT-4o-mini_Finetuning_v2\": finetuning_polarity2})"
   ]
  },
  {
   "cell_type": "code",
   "execution_count": 65,
   "metadata": {},
   "outputs": [],
   "source": [
    "merged_df = pd.merge(df_normal, df_finetuning, on=\"Id\")\n",
    "merged_df = merged_df.sort_values(by=\"Id\")\n",
    "\n",
    "merged_df2 = pd.merge(merged_df, df_finetuning2, on=\"Id\")\n",
    "merged_df2 = merged_df2.sort_values(by=\"Id\")"
   ]
  },
  {
   "cell_type": "code",
   "execution_count": null,
   "metadata": {},
   "outputs": [],
   "source": [
    "df = pd.read_excel('../../Spain_test_2020.xlsx')\n",
    "\n",
    "df[\"Polarity_GPT-4o-mini\"] = merged_df2[\"Polarity_GPT-4o-mini\"]\n",
    "df[\"Polarity_GPT-4o-mini_Finetuning\"] = merged_df2[\"Polarity_GPT-4o-mini_Finetuning\"]\n",
    "df[\"Polarity_GPT-4o-mini_Finetuning_v2\"] = merged_df2[\"Polarity_GPT-4o-mini_Finetuning_v2\"]\n",
    "\n",
    "df.to_excel('Clasificación_GPT-4o-mini_Fine-tuning.xlsx', index=False)\n"
   ]
  }
 ],
 "metadata": {
  "kernelspec": {
   "display_name": "Python 3",
   "language": "python",
   "name": "python3"
  },
  "language_info": {
   "codemirror_mode": {
    "name": "ipython",
    "version": 3
   },
   "file_extension": ".py",
   "mimetype": "text/x-python",
   "name": "python",
   "nbconvert_exporter": "python",
   "pygments_lexer": "ipython3",
   "version": "3.13.1"
  }
 },
 "nbformat": 4,
 "nbformat_minor": 2
}
